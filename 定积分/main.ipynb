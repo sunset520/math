{
 "cells": [
  {
   "cell_type": "code",
   "execution_count": null,
   "metadata": {},
   "outputs": [],
   "source": [
    "from sympy import *\n",
    "x,y,z,w = symbols('x y z w')\n",
    "n=1\n",
    "f = ((x*(1-x)*y*(1-y)*z*(1-z)*w*(1-w))**n)*(1-x*y)**(2*n+1)/((1-(1-x*y)*z)*(1-(1-x*y)*w))**(n+1)\n",
    "print(integrate(f,(x,0,1),(y,0,1),(z,0,1),(w,0,1)))\n",
    "f"
   ]
  },
  {
   "cell_type": "code",
   "execution_count": 14,
   "metadata": {},
   "outputs": [
    {
     "name": "stdout",
     "output_type": "stream",
     "text": [
      "(0.06249999999999999, 5.51503220577779e-15)\n"
     ]
    }
   ],
   "source": [
    "from scipy import integrate\n",
    "\n",
    "def f(x,y,z,w):\n",
    "    n=1\n",
    "    # return ((x*(1-x)*y*(1-y)*z*(1-z)*w*(1-w))**n)*(1-x*y)**(2*n+1)/((1-(1-x*y)*z)*(1-(1-x*y)*w))**(n+1)\n",
    "    return x*y*z*w\n",
    "def bounds_x(*args):\n",
    "    return [0,1]\n",
    "def bounds_y(*args):\n",
    "    return [0,1]\n",
    "def bounds_z(*args):\n",
    "    return [0,1]\n",
    "def bounds_w(*args):\n",
    "    return [0,1]\n",
    "\n",
    "print(integrate.nquad(f,[bounds_x,bounds_y,bounds_z,bounds_w]))"
   ]
  }
 ],
 "metadata": {
  "kernelspec": {
   "display_name": "Python 3",
   "language": "python",
   "name": "python3"
  },
  "language_info": {
   "codemirror_mode": {
    "name": "ipython",
    "version": 3
   },
   "file_extension": ".py",
   "mimetype": "text/x-python",
   "name": "python",
   "nbconvert_exporter": "python",
   "pygments_lexer": "ipython3",
   "version": "3.11.4"
  },
  "orig_nbformat": 4
 },
 "nbformat": 4,
 "nbformat_minor": 2
}
