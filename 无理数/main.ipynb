{
 "cells": [
  {
   "cell_type": "code",
   "execution_count": 1,
   "metadata": {},
   "outputs": [],
   "source": [
    "from sympy import *"
   ]
  },
  {
   "cell_type": "code",
   "execution_count": 2,
   "metadata": {},
   "outputs": [],
   "source": [
    "n = symbols('n')"
   ]
  },
  {
   "cell_type": "code",
   "execution_count": 3,
   "metadata": {},
   "outputs": [
    {
     "name": "stdout",
     "output_type": "stream",
     "text": [
      "2.48106101979076\n"
     ]
    },
    {
     "data": {
      "text/latex": [
       "$\\displaystyle \\frac{\\sigma_0\\left(n\\right)}{n!}$"
      ],
      "text/plain": [
       "divisor_sigma(n, 0)/factorial(n)"
      ]
     },
     "execution_count": 3,
     "metadata": {},
     "output_type": "execute_result"
    }
   ],
   "source": [
    "f = ntheory.divisor_sigma(n,0)/factorial(n)\n",
    "print(summation(f,(n,1,1000)).evalf())\n",
    "f"
   ]
  },
  {
   "cell_type": "code",
   "execution_count": 6,
   "metadata": {},
   "outputs": [
    {
     "name": "stdout",
     "output_type": "stream",
     "text": [
      "3.52700047185295\n"
     ]
    },
    {
     "data": {
      "text/latex": [
       "$\\displaystyle \\frac{\\sigma_1\\left(n\\right)}{n!}$"
      ],
      "text/plain": [
       "divisor_sigma(n, 1)/factorial(n)"
      ]
     },
     "execution_count": 6,
     "metadata": {},
     "output_type": "execute_result"
    }
   ],
   "source": [
    "f = ntheory.divisor_sigma(n,1)/factorial(n)\n",
    "print(summation(f,(n,1,1000)).evalf())\n",
    "f"
   ]
  },
  {
   "cell_type": "code",
   "execution_count": 7,
   "metadata": {},
   "outputs": [
    {
     "name": "stdout",
     "output_type": "stream",
     "text": [
      "6.34009666889217\n"
     ]
    },
    {
     "data": {
      "text/latex": [
       "$\\displaystyle \\frac{\\sigma_2\\left(n\\right)}{n!}$"
      ],
      "text/plain": [
       "divisor_sigma(n, 2)/factorial(n)"
      ]
     },
     "execution_count": 7,
     "metadata": {},
     "output_type": "execute_result"
    }
   ],
   "source": [
    "f = ntheory.divisor_sigma(n,2)/factorial(n)\n",
    "print(summation(f,(n,1,1000)).evalf())\n",
    "f"
   ]
  },
  {
   "cell_type": "code",
   "execution_count": 8,
   "metadata": {},
   "outputs": [
    {
     "name": "stdout",
     "output_type": "stream",
     "text": [
      "14.6935328472693\n"
     ]
    },
    {
     "data": {
      "text/latex": [
       "$\\displaystyle \\frac{\\sigma_3\\left(n\\right)}{n!}$"
      ],
      "text/plain": [
       "divisor_sigma(n, 3)/factorial(n)"
      ]
     },
     "execution_count": 8,
     "metadata": {},
     "output_type": "execute_result"
    }
   ],
   "source": [
    "f = ntheory.divisor_sigma(n,3)/factorial(n)\n",
    "print(summation(f,(n,1,1000)).evalf())\n",
    "f"
   ]
  },
  {
   "cell_type": "code",
   "execution_count": 12,
   "metadata": {},
   "outputs": [
    {
     "name": "stdout",
     "output_type": "stream",
     "text": [
      "1.95408535787601\n"
     ]
    },
    {
     "data": {
      "text/latex": [
       "$\\displaystyle \\frac{\\phi\\left(n\\right)}{n!}$"
      ],
      "text/plain": [
       "totient(n)/factorial(n)"
      ]
     },
     "execution_count": 12,
     "metadata": {},
     "output_type": "execute_result"
    }
   ],
   "source": [
    "f = ntheory.totient(n)/factorial(n)\n",
    "print(summation(f,(n,1,1000)).evalf())\n",
    "f"
   ]
  },
  {
   "cell_type": "code",
   "execution_count": 1,
   "metadata": {},
   "outputs": [],
   "source": [
    "from sympy import *"
   ]
  },
  {
   "cell_type": "code",
   "execution_count": 23,
   "metadata": {},
   "outputs": [
    {
     "name": "stdout",
     "output_type": "stream",
     "text": [
      "0.999999999999998\n"
     ]
    },
    {
     "data": {
      "text/latex": [
       "$\\displaystyle \\frac{1}{n!}$"
      ],
      "text/plain": [
       "1/factorial(n)"
      ]
     },
     "execution_count": 23,
     "metadata": {},
     "output_type": "execute_result"
    }
   ],
   "source": [
    "n = symbols('n')\n",
    "f = 1/factorial(n)\n",
    "print(summation(f,(n,0,1000)).evalf()/2.71828182845905)\n",
    "f"
   ]
  },
  {
   "cell_type": "code",
   "execution_count": 24,
   "metadata": {},
   "outputs": [
    {
     "name": "stdout",
     "output_type": "stream",
     "text": [
      "0.999999999999998\n"
     ]
    },
    {
     "data": {
      "text/latex": [
       "$\\displaystyle \\frac{n}{n!}$"
      ],
      "text/plain": [
       "n/factorial(n)"
      ]
     },
     "execution_count": 24,
     "metadata": {},
     "output_type": "execute_result"
    }
   ],
   "source": [
    "n = symbols('n')\n",
    "f = n/factorial(n)\n",
    "print(summation(f,(n,0,1000)).evalf()/2.71828182845905)\n",
    "f"
   ]
  },
  {
   "cell_type": "code",
   "execution_count": 25,
   "metadata": {},
   "outputs": [
    {
     "name": "stdout",
     "output_type": "stream",
     "text": [
      "2.00000000000000\n"
     ]
    },
    {
     "data": {
      "text/latex": [
       "$\\displaystyle \\frac{n^{2}}{n!}$"
      ],
      "text/plain": [
       "n**2/factorial(n)"
      ]
     },
     "execution_count": 25,
     "metadata": {},
     "output_type": "execute_result"
    }
   ],
   "source": [
    "n = symbols('n')\n",
    "f = n**2/factorial(n)\n",
    "print(summation(f,(n,0,1000)).evalf()/2.71828182845905)\n",
    "f"
   ]
  },
  {
   "cell_type": "code",
   "execution_count": 26,
   "metadata": {},
   "outputs": [
    {
     "name": "stdout",
     "output_type": "stream",
     "text": [
      "4.99999999999999\n"
     ]
    },
    {
     "data": {
      "text/latex": [
       "$\\displaystyle \\frac{n^{3}}{n!}$"
      ],
      "text/plain": [
       "n**3/factorial(n)"
      ]
     },
     "execution_count": 26,
     "metadata": {},
     "output_type": "execute_result"
    }
   ],
   "source": [
    "n = symbols('n')\n",
    "f = n**3/factorial(n)\n",
    "print(summation(f,(n,0,1000)).evalf()/2.71828182845905)\n",
    "f"
   ]
  },
  {
   "cell_type": "code",
   "execution_count": 27,
   "metadata": {},
   "outputs": [
    {
     "name": "stdout",
     "output_type": "stream",
     "text": [
      "15.0000000000000\n"
     ]
    },
    {
     "data": {
      "text/latex": [
       "$\\displaystyle \\frac{n^{4}}{n!}$"
      ],
      "text/plain": [
       "n**4/factorial(n)"
      ]
     },
     "execution_count": 27,
     "metadata": {},
     "output_type": "execute_result"
    }
   ],
   "source": [
    "n = symbols('n')\n",
    "f = n**4/factorial(n)\n",
    "print(summation(f,(n,0,1000)).evalf()/2.71828182845905)\n",
    "f"
   ]
  },
  {
   "cell_type": "code",
   "execution_count": 28,
   "metadata": {},
   "outputs": [
    {
     "name": "stdout",
     "output_type": "stream",
     "text": [
      "51.9999999999999\n"
     ]
    },
    {
     "data": {
      "text/latex": [
       "$\\displaystyle \\frac{n^{5}}{n!}$"
      ],
      "text/plain": [
       "n**5/factorial(n)"
      ]
     },
     "execution_count": 28,
     "metadata": {},
     "output_type": "execute_result"
    }
   ],
   "source": [
    "n = symbols('n')\n",
    "f = n**5/factorial(n)\n",
    "print(summation(f,(n,0,1000)).evalf()/2.71828182845905)\n",
    "f"
   ]
  },
  {
   "cell_type": "code",
   "execution_count": 29,
   "metadata": {},
   "outputs": [
    {
     "name": "stdout",
     "output_type": "stream",
     "text": [
      "203.000000000000\n"
     ]
    },
    {
     "data": {
      "text/latex": [
       "$\\displaystyle \\frac{n^{6}}{n!}$"
      ],
      "text/plain": [
       "n**6/factorial(n)"
      ]
     },
     "execution_count": 29,
     "metadata": {},
     "output_type": "execute_result"
    }
   ],
   "source": [
    "n = symbols('n')\n",
    "f = n**6/factorial(n)\n",
    "print(summation(f,(n,0,1000)).evalf()/2.71828182845905)\n",
    "f"
   ]
  },
  {
   "cell_type": "code",
   "execution_count": 30,
   "metadata": {},
   "outputs": [
    {
     "name": "stdout",
     "output_type": "stream",
     "text": [
      "876.999999999999\n"
     ]
    },
    {
     "data": {
      "text/latex": [
       "$\\displaystyle \\frac{n^{7}}{n!}$"
      ],
      "text/plain": [
       "n**7/factorial(n)"
      ]
     },
     "execution_count": 30,
     "metadata": {},
     "output_type": "execute_result"
    }
   ],
   "source": [
    "n = symbols('n')\n",
    "f = n**7/factorial(n)\n",
    "print(summation(f,(n,0,1000)).evalf()/2.71828182845905)\n",
    "f"
   ]
  },
  {
   "cell_type": "code",
   "execution_count": 31,
   "metadata": {},
   "outputs": [
    {
     "name": "stdout",
     "output_type": "stream",
     "text": [
      "4139.99999999999\n"
     ]
    },
    {
     "data": {
      "text/latex": [
       "$\\displaystyle \\frac{n^{8}}{n!}$"
      ],
      "text/plain": [
       "n**8/factorial(n)"
      ]
     },
     "execution_count": 31,
     "metadata": {},
     "output_type": "execute_result"
    }
   ],
   "source": [
    "n = symbols('n')\n",
    "f = n**8/factorial(n)\n",
    "print(summation(f,(n,0,1000)).evalf()/2.71828182845905)\n",
    "f"
   ]
  },
  {
   "cell_type": "code",
   "execution_count": 32,
   "metadata": {},
   "outputs": [
    {
     "name": "stdout",
     "output_type": "stream",
     "text": [
      "21147.0000000000\n"
     ]
    },
    {
     "data": {
      "text/latex": [
       "$\\displaystyle \\frac{n^{9}}{n!}$"
      ],
      "text/plain": [
       "n**9/factorial(n)"
      ]
     },
     "execution_count": 32,
     "metadata": {},
     "output_type": "execute_result"
    }
   ],
   "source": [
    "n = symbols('n')\n",
    "f = n**9/factorial(n)\n",
    "print(summation(f,(n,0,1000)).evalf()/2.71828182845905)\n",
    "f"
   ]
  },
  {
   "cell_type": "code",
   "execution_count": 33,
   "metadata": {},
   "outputs": [
    {
     "name": "stdout",
     "output_type": "stream",
     "text": [
      "115975.000000000\n"
     ]
    },
    {
     "data": {
      "text/latex": [
       "$\\displaystyle \\frac{n^{10}}{n!}$"
      ],
      "text/plain": [
       "n**10/factorial(n)"
      ]
     },
     "execution_count": 33,
     "metadata": {},
     "output_type": "execute_result"
    }
   ],
   "source": [
    "n = symbols('n')\n",
    "f = n**10/factorial(n)\n",
    "print(summation(f,(n,0,1000)).evalf()/2.71828182845905)\n",
    "f"
   ]
  },
  {
   "cell_type": "code",
   "execution_count": 34,
   "metadata": {},
   "outputs": [
    {
     "name": "stdout",
     "output_type": "stream",
     "text": [
      "678569.999999999\n"
     ]
    },
    {
     "data": {
      "text/latex": [
       "$\\displaystyle \\frac{n^{11}}{n!}$"
      ],
      "text/plain": [
       "n**11/factorial(n)"
      ]
     },
     "execution_count": 34,
     "metadata": {},
     "output_type": "execute_result"
    }
   ],
   "source": [
    "n = symbols('n')\n",
    "f = n**11/factorial(n)\n",
    "print(summation(f,(n,0,1000)).evalf()/2.71828182845905)\n",
    "f"
   ]
  },
  {
   "cell_type": "code",
   "execution_count": 35,
   "metadata": {},
   "outputs": [
    {
     "name": "stdout",
     "output_type": "stream",
     "text": [
      "4213596.99999999\n"
     ]
    },
    {
     "data": {
      "text/latex": [
       "$\\displaystyle \\frac{n^{12}}{n!}$"
      ],
      "text/plain": [
       "n**12/factorial(n)"
      ]
     },
     "execution_count": 35,
     "metadata": {},
     "output_type": "execute_result"
    }
   ],
   "source": [
    "n = symbols('n')\n",
    "f = n**12/factorial(n)\n",
    "print(summation(f,(n,0,1000)).evalf()/2.71828182845905)\n",
    "f"
   ]
  },
  {
   "cell_type": "markdown",
   "metadata": {},
   "source": [
    "|  $k$ |  $\\sum_{n=0}^{\\infty}\\frac{n^k}{n!}$ |\n",
    "| ----- | ------ |\n",
    "| $0$ | $e$ |\n",
    "| $1$ | $e$ |\n",
    "| $2$ | $2e$ |\n",
    "| $3$ | $5e$ |\n",
    "| $4$ | $15e$ |\n",
    "| $5$ | $52e$ |\n",
    "\n",
    "\n",
    "A000110"
   ]
  },
  {
   "cell_type": "code",
   "execution_count": 4,
   "metadata": {},
   "outputs": [
    {
     "name": "stdout",
     "output_type": "stream",
     "text": [
      "1.36763080198502\n"
     ]
    },
    {
     "data": {
      "text/latex": [
       "$\\displaystyle 2^{- n} \\phi\\left(n\\right)$"
      ],
      "text/plain": [
       "totient(n)/2**n"
      ]
     },
     "execution_count": 4,
     "metadata": {},
     "output_type": "execute_result"
    }
   ],
   "source": [
    "from sympy import *\n",
    "f = ntheory.totient(n)/(2**n)\n",
    "print(summation(f,(n,1,1000)).evalf())\n",
    "f"
   ]
  }
 ],
 "metadata": {
  "kernelspec": {
   "display_name": "Python 3 (ipykernel)",
   "language": "python",
   "name": "python3"
  },
  "language_info": {
   "codemirror_mode": {
    "name": "ipython",
    "version": 3
   },
   "file_extension": ".py",
   "mimetype": "text/x-python",
   "name": "python",
   "nbconvert_exporter": "python",
   "pygments_lexer": "ipython3",
   "version": "3.8.10"
  },
  "orig_nbformat": 4
 },
 "nbformat": 4,
 "nbformat_minor": 2
}
