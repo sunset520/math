{
 "cells": [
  {
   "cell_type": "markdown",
   "metadata": {},
   "source": [
    "# 一些无穷级数的计算及其无理性的讨论"
   ]
  },
  {
   "cell_type": "markdown",
   "metadata": {},
   "source": [
    "## $\\sum_{n=1}^{\\infty}\\frac{\\sigma _k(n)}{n!}$"
   ]
  },
  {
   "cell_type": "code",
   "execution_count": 1,
   "metadata": {},
   "outputs": [
    {
     "name": "stdout",
     "output_type": "stream",
     "text": [
      "2.48106101979076\n"
     ]
    },
    {
     "data": {
      "text/latex": [
       "$\\displaystyle \\frac{\\sigma_0\\left(n\\right)}{n!}$"
      ],
      "text/plain": [
       "divisor_sigma(n, 0)/factorial(n)"
      ]
     },
     "execution_count": 1,
     "metadata": {},
     "output_type": "execute_result"
    }
   ],
   "source": [
    "from sympy import *\n",
    "n = symbols('n')\n",
    "f = ntheory.divisor_sigma(n,0)/factorial(n)\n",
    "print(summation(f,(n,1,1000)).evalf())\n",
    "f"
   ]
  },
  {
   "cell_type": "code",
   "execution_count": 2,
   "metadata": {},
   "outputs": [
    {
     "name": "stdout",
     "output_type": "stream",
     "text": [
      "3.52700047185295\n"
     ]
    },
    {
     "data": {
      "text/latex": [
       "$\\displaystyle \\frac{\\sigma_1\\left(n\\right)}{n!}$"
      ],
      "text/plain": [
       "divisor_sigma(n, 1)/factorial(n)"
      ]
     },
     "execution_count": 2,
     "metadata": {},
     "output_type": "execute_result"
    }
   ],
   "source": [
    "from sympy import *\n",
    "n = symbols('n')\n",
    "f = ntheory.divisor_sigma(n,1)/factorial(n)\n",
    "print(summation(f,(n,1,1000)).evalf())\n",
    "f"
   ]
  },
  {
   "cell_type": "code",
   "execution_count": 3,
   "metadata": {},
   "outputs": [
    {
     "name": "stdout",
     "output_type": "stream",
     "text": [
      "6.34009666889217\n"
     ]
    },
    {
     "data": {
      "text/latex": [
       "$\\displaystyle \\frac{\\sigma_2\\left(n\\right)}{n!}$"
      ],
      "text/plain": [
       "divisor_sigma(n, 2)/factorial(n)"
      ]
     },
     "execution_count": 3,
     "metadata": {},
     "output_type": "execute_result"
    }
   ],
   "source": [
    "from sympy import *\n",
    "n = symbols('n')\n",
    "f = ntheory.divisor_sigma(n,2)/factorial(n)\n",
    "print(summation(f,(n,1,1000)).evalf())\n",
    "f"
   ]
  },
  {
   "cell_type": "code",
   "execution_count": 4,
   "metadata": {},
   "outputs": [
    {
     "name": "stdout",
     "output_type": "stream",
     "text": [
      "14.6935328472693\n"
     ]
    },
    {
     "data": {
      "text/latex": [
       "$\\displaystyle \\frac{\\sigma_3\\left(n\\right)}{n!}$"
      ],
      "text/plain": [
       "divisor_sigma(n, 3)/factorial(n)"
      ]
     },
     "execution_count": 4,
     "metadata": {},
     "output_type": "execute_result"
    }
   ],
   "source": [
    "from sympy import *\n",
    "n = symbols('n')\n",
    "f = ntheory.divisor_sigma(n,3)/factorial(n)\n",
    "print(summation(f,(n,1,1000)).evalf())\n",
    "f"
   ]
  },
  {
   "cell_type": "markdown",
   "metadata": {},
   "source": [
    "## $\\sum_{n=1}^{\\infty}\\frac{\\varphi(n)}{n!}$"
   ]
  },
  {
   "cell_type": "code",
   "execution_count": 5,
   "metadata": {},
   "outputs": [
    {
     "name": "stdout",
     "output_type": "stream",
     "text": [
      "1.95408535787601\n"
     ]
    },
    {
     "data": {
      "text/latex": [
       "$\\displaystyle \\frac{\\phi\\left(n\\right)}{n!}$"
      ],
      "text/plain": [
       "totient(n)/factorial(n)"
      ]
     },
     "execution_count": 5,
     "metadata": {},
     "output_type": "execute_result"
    }
   ],
   "source": [
    "from sympy import *\n",
    "n = symbols('n')\n",
    "f = ntheory.totient(n)/factorial(n)\n",
    "print(summation(f,(n,1,1000)).evalf())\n",
    "f"
   ]
  },
  {
   "cell_type": "markdown",
   "metadata": {},
   "source": [
    "## $\\sum_{n=1}^{\\infty}\\frac{\\varphi (n)}{2^n}$"
   ]
  },
  {
   "cell_type": "code",
   "execution_count": 6,
   "metadata": {},
   "outputs": [
    {
     "name": "stdout",
     "output_type": "stream",
     "text": [
      "1.36763080198502\n"
     ]
    },
    {
     "data": {
      "text/latex": [
       "$\\displaystyle 2^{- n} \\phi\\left(n\\right)$"
      ],
      "text/plain": [
       "totient(n)/2**n"
      ]
     },
     "execution_count": 6,
     "metadata": {},
     "output_type": "execute_result"
    }
   ],
   "source": [
    "from sympy import *\n",
    "n = symbols('n')\n",
    "f = ntheory.totient(n)/(2**n)\n",
    "print(summation(f,(n,1,1000)).evalf())\n",
    "f"
   ]
  },
  {
   "cell_type": "markdown",
   "metadata": {},
   "source": [
    "## $\\sum_{n=1}^{\\infty}\\frac{1}{F_n}$"
   ]
  },
  {
   "cell_type": "code",
   "execution_count": 1,
   "metadata": {},
   "outputs": [
    {
     "name": "stdout",
     "output_type": "stream",
     "text": [
      "3.35988566624318\n"
     ]
    },
    {
     "data": {
      "text/latex": [
       "$\\displaystyle \\frac{1}{F_{n}}$"
      ],
      "text/plain": [
       "1/fibonacci(n)"
      ]
     },
     "execution_count": 1,
     "metadata": {},
     "output_type": "execute_result"
    }
   ],
   "source": [
    "from sympy import *\n",
    "n = symbols('n')\n",
    "f = 1/fibonacci(n)\n",
    "print(summation(f,(n,1,1000)).evalf())\n",
    "f"
   ]
  },
  {
   "cell_type": "code",
   "execution_count": 2,
   "metadata": {},
   "outputs": [
    {
     "name": "stdout",
     "output_type": "stream",
     "text": [
      "0.289144648570672\n"
     ]
    },
    {
     "data": {
      "text/latex": [
       "$\\displaystyle \\frac{\\left(-1\\right)^{n - 1}}{F_{n}}$"
      ],
      "text/plain": [
       "(-1)**(n - 1)/fibonacci(n)"
      ]
     },
     "execution_count": 2,
     "metadata": {},
     "output_type": "execute_result"
    }
   ],
   "source": [
    "from sympy import *\n",
    "n = symbols('n')\n",
    "f = (-1)**(n-1)/fibonacci(n)\n",
    "print(summation(f,(n,1,1000)).evalf())\n",
    "f"
   ]
  },
  {
   "cell_type": "markdown",
   "metadata": {},
   "source": [
    "## $\\sum_{n=1}^{\\infty}\\frac{1}{(n+1)!-1}$"
   ]
  },
  {
   "cell_type": "code",
   "execution_count": 6,
   "metadata": {},
   "outputs": [
    {
     "name": "stdout",
     "output_type": "stream",
     "text": [
      "1.25349875569995\n"
     ]
    },
    {
     "data": {
      "text/latex": [
       "$\\displaystyle \\frac{1}{\\left(n + 1\\right)! - 1}$"
      ],
      "text/plain": [
       "1/(factorial(n + 1) - 1)"
      ]
     },
     "execution_count": 6,
     "metadata": {},
     "output_type": "execute_result"
    }
   ],
   "source": [
    "from sympy import *\n",
    "n = symbols('n')\n",
    "f = 1/(factorial(n+1)-1)\n",
    "print(summation(f,(n,1,100)).evalf())\n",
    "f"
   ]
  },
  {
   "cell_type": "markdown",
   "metadata": {},
   "source": [
    "## $\\sum_{n=0}^{\\infty}\\frac{n^k}{n!}$"
   ]
  },
  {
   "cell_type": "markdown",
   "metadata": {},
   "source": [
    "|  $k$ |  $\\sum_{n=0}^{\\infty}\\frac{n^k}{n!}$ |\n",
    "| ----- | ------ |\n",
    "| $0$ | $e$ |\n",
    "| $1$ | $e$ |\n",
    "| $2$ | $2e$ |\n",
    "| $3$ | $5e$ |\n",
    "| $4$ | $15e$ |\n",
    "| $5$ | $52e$ |\n",
    "\n",
    "\n",
    "A000110"
   ]
  },
  {
   "cell_type": "code",
   "execution_count": 7,
   "metadata": {},
   "outputs": [
    {
     "name": "stdout",
     "output_type": "stream",
     "text": [
      "0.999999999999998\n"
     ]
    },
    {
     "data": {
      "text/latex": [
       "$\\displaystyle \\frac{1}{n!}$"
      ],
      "text/plain": [
       "1/factorial(n)"
      ]
     },
     "execution_count": 7,
     "metadata": {},
     "output_type": "execute_result"
    }
   ],
   "source": [
    "from sympy import *\n",
    "n = symbols('n')\n",
    "f = 1/factorial(n)\n",
    "print(summation(f,(n,0,1000)).evalf()/2.71828182845905)\n",
    "f"
   ]
  },
  {
   "cell_type": "code",
   "execution_count": 8,
   "metadata": {},
   "outputs": [
    {
     "name": "stdout",
     "output_type": "stream",
     "text": [
      "0.999999999999998\n"
     ]
    },
    {
     "data": {
      "text/latex": [
       "$\\displaystyle \\frac{n}{n!}$"
      ],
      "text/plain": [
       "n/factorial(n)"
      ]
     },
     "execution_count": 8,
     "metadata": {},
     "output_type": "execute_result"
    }
   ],
   "source": [
    "from sympy import *\n",
    "n = symbols('n')\n",
    "f = n/factorial(n)\n",
    "print(summation(f,(n,0,1000)).evalf()/2.71828182845905)\n",
    "f"
   ]
  },
  {
   "cell_type": "code",
   "execution_count": 9,
   "metadata": {},
   "outputs": [
    {
     "name": "stdout",
     "output_type": "stream",
     "text": [
      "2.00000000000000\n"
     ]
    },
    {
     "data": {
      "text/latex": [
       "$\\displaystyle \\frac{n^{2}}{n!}$"
      ],
      "text/plain": [
       "n**2/factorial(n)"
      ]
     },
     "execution_count": 9,
     "metadata": {},
     "output_type": "execute_result"
    }
   ],
   "source": [
    "from sympy import *\n",
    "n = symbols('n')\n",
    "f = n**2/factorial(n)\n",
    "print(summation(f,(n,0,1000)).evalf()/2.71828182845905)\n",
    "f"
   ]
  },
  {
   "cell_type": "code",
   "execution_count": 10,
   "metadata": {},
   "outputs": [
    {
     "name": "stdout",
     "output_type": "stream",
     "text": [
      "4.99999999999999\n"
     ]
    },
    {
     "data": {
      "text/latex": [
       "$\\displaystyle \\frac{n^{3}}{n!}$"
      ],
      "text/plain": [
       "n**3/factorial(n)"
      ]
     },
     "execution_count": 10,
     "metadata": {},
     "output_type": "execute_result"
    }
   ],
   "source": [
    "from sympy import *\n",
    "n = symbols('n')\n",
    "f = n**3/factorial(n)\n",
    "print(summation(f,(n,0,1000)).evalf()/2.71828182845905)\n",
    "f"
   ]
  },
  {
   "cell_type": "code",
   "execution_count": 11,
   "metadata": {},
   "outputs": [
    {
     "name": "stdout",
     "output_type": "stream",
     "text": [
      "15.0000000000000\n"
     ]
    },
    {
     "data": {
      "text/latex": [
       "$\\displaystyle \\frac{n^{4}}{n!}$"
      ],
      "text/plain": [
       "n**4/factorial(n)"
      ]
     },
     "execution_count": 11,
     "metadata": {},
     "output_type": "execute_result"
    }
   ],
   "source": [
    "from sympy import *\n",
    "n = symbols('n')\n",
    "f = n**4/factorial(n)\n",
    "print(summation(f,(n,0,1000)).evalf()/2.71828182845905)\n",
    "f"
   ]
  }
 ],
 "metadata": {
  "kernelspec": {
   "display_name": "Python 3 (ipykernel)",
   "language": "python",
   "name": "python3"
  },
  "language_info": {
   "codemirror_mode": {
    "name": "ipython",
    "version": 3
   },
   "file_extension": ".py",
   "mimetype": "text/x-python",
   "name": "python",
   "nbconvert_exporter": "python",
   "pygments_lexer": "ipython3",
   "version": "3.11.4"
  },
  "orig_nbformat": 4
 },
 "nbformat": 4,
 "nbformat_minor": 2
}
