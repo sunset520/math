{
 "cells": [
  {
   "attachments": {},
   "cell_type": "markdown",
   "metadata": {},
   "source": [
    "# 有形数"
   ]
  },
  {
   "attachments": {},
   "cell_type": "markdown",
   "metadata": {},
   "source": [
    "## 简介"
   ]
  },
  {
   "cell_type": "code",
   "execution_count": 5,
   "metadata": {},
   "outputs": [],
   "source": [
    "def get_additive_number_count(get_number_func, params, max_num):\n",
    "    dp = [float('inf')] * (max_num + 1)\n",
    "    dp[0] = 0\n",
    "\n",
    "    for i in range(1, max_num + 1):\n",
    "        min_n = float('inf')\n",
    "        j = 1\n",
    "        while get_number_func(params, j) <= i:\n",
    "            min_n = min(min_n, dp[i - get_number_func(params, j)])\n",
    "            j += 1\n",
    "        dp[i] = min_n + 1\n",
    "\n",
    "    return max(dp)"
   ]
  },
  {
   "attachments": {},
   "cell_type": "markdown",
   "metadata": {},
   "source": [
    "## 多边形数及其推广"
   ]
  },
  {
   "cell_type": "code",
   "execution_count": 6,
   "metadata": {},
   "outputs": [
    {
     "name": "stdout",
     "output_type": "stream",
     "text": [
      "5\n"
     ]
    }
   ],
   "source": [
    "def get_generalized_polygonal_number(params, index):\n",
    "    ans = 1\n",
    "    for i in range(params[0] - 1):\n",
    "        ans = ans * (index + i) // (i + 1)\n",
    "    ans = ans * ((params[1] - 2) * index - (params[1] - params[0] - 2)) // params[0]\n",
    "    return ans\n",
    "\n",
    "result = get_additive_number_count(get_generalized_polygonal_number, [3, 3], 100000)\n",
    "print(result)"
   ]
  },
  {
   "attachments": {},
   "cell_type": "markdown",
   "metadata": {},
   "source": [
    "## 多面体数"
   ]
  },
  {
   "cell_type": "code",
   "execution_count": null,
   "metadata": {},
   "outputs": [],
   "source": [
    "def get_polyhedron_number(params, index):\n",
    "    if params[0] == 4:\n",
    "        return index * (index + 1) * (index + 2) // 6\n",
    "    elif params[0] == 6:\n",
    "        return index ** 3\n",
    "    elif params[0] == 8:\n",
    "        return index * (2 * index**2 + 1) // 3\n",
    "    elif params[0] == 12:\n",
    "        return index * (3 * index - 1) * (3*index-2) // 2\n",
    "    elif params[0] == 20:\n",
    "        return index * (5*index**2-5*index+2)//2"
   ]
  },
  {
   "attachments": {},
   "cell_type": "markdown",
   "metadata": {},
   "source": [
    "## 幂数"
   ]
  },
  {
   "cell_type": "code",
   "execution_count": null,
   "metadata": {},
   "outputs": [],
   "source": []
  },
  {
   "attachments": {},
   "cell_type": "markdown",
   "metadata": {},
   "source": [
    "## 星数"
   ]
  },
  {
   "cell_type": "code",
   "execution_count": null,
   "metadata": {},
   "outputs": [],
   "source": []
  }
 ],
 "metadata": {
  "kernelspec": {
   "display_name": "Python 3",
   "language": "python",
   "name": "python3"
  },
  "language_info": {
   "codemirror_mode": {
    "name": "ipython",
    "version": 3
   },
   "file_extension": ".py",
   "mimetype": "text/x-python",
   "name": "python",
   "nbconvert_exporter": "python",
   "pygments_lexer": "ipython3",
   "version": "3.11.4"
  },
  "orig_nbformat": 4
 },
 "nbformat": 4,
 "nbformat_minor": 2
}
