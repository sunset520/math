{
 "cells": [
  {
   "attachments": {},
   "cell_type": "markdown",
   "metadata": {},
   "source": [
    "# 有形数"
   ]
  },
  {
   "attachments": {},
   "cell_type": "markdown",
   "metadata": {},
   "source": [
    "## 简介"
   ]
  },
  {
   "cell_type": "code",
   "execution_count": 1,
   "metadata": {},
   "outputs": [],
   "source": [
    "def get_additive_number_count(getNumber, params, max_num):\n",
    "    dp = [float('inf')] * (max_num + 1)\n",
    "    dp[0] = 0\n",
    "    for i in range(1, max_num + 1):\n",
    "        min_n = float('inf')\n",
    "        j = 1\n",
    "        while getNumber(params,j) <= i:\n",
    "            min_n = min(min_n, dp[i - getNumber(params,j)])\n",
    "            j += 1\n",
    "        dp[i] = min_n + 1\n",
    "    val = 1\n",
    "    for i in range(1, max_num + 1):\n",
    "        if dp[i] >= val:\n",
    "            val = dp[i]\n",
    "    return val"
   ]
  },
  {
   "attachments": {},
   "cell_type": "markdown",
   "metadata": {},
   "source": [
    "## 多边形数及其推广"
   ]
  },
  {
   "cell_type": "code",
   "execution_count": 3,
   "metadata": {},
   "outputs": [
    {
     "data": {
      "text/plain": [
       "5"
      ]
     },
     "execution_count": 3,
     "metadata": {},
     "output_type": "execute_result"
    }
   ],
   "source": [
    "# params [dim_num, edge_num]\n",
    "def getGeneralizedPolygonalNumber(params, index):\n",
    "    ans = 1\n",
    "    for i in range(params[0]-1):\n",
    "        ans = ans * (index + i) // (i + 1)\n",
    "    ans = ans*((params[1]-2)*index - (params[1]-params[0]-2))//params[0]\n",
    "    return ans\n",
    "get_additive_number_count(getGeneralizedPolygonalNumber,[3,3],1000)"
   ]
  },
  {
   "attachments": {},
   "cell_type": "markdown",
   "metadata": {},
   "source": [
    "## 多面体数"
   ]
  },
  {
   "attachments": {},
   "cell_type": "markdown",
   "metadata": {},
   "source": [
    "## 幂数"
   ]
  },
  {
   "attachments": {},
   "cell_type": "markdown",
   "metadata": {},
   "source": [
    "## 星数"
   ]
  }
 ],
 "metadata": {
  "kernelspec": {
   "display_name": "Python 3",
   "language": "python",
   "name": "python3"
  },
  "language_info": {
   "codemirror_mode": {
    "name": "ipython",
    "version": 3
   },
   "file_extension": ".py",
   "mimetype": "text/x-python",
   "name": "python",
   "nbconvert_exporter": "python",
   "pygments_lexer": "ipython3",
   "version": "3.8.10"
  },
  "orig_nbformat": 4
 },
 "nbformat": 4,
 "nbformat_minor": 2
}
