{
 "cells": [
  {
   "cell_type": "code",
   "execution_count": 1,
   "metadata": {},
   "outputs": [],
   "source": [
    "from sympy import *"
   ]
  },
  {
   "cell_type": "code",
   "execution_count": 23,
   "metadata": {},
   "outputs": [
    {
     "data": {
      "text/latex": [
       "$\\displaystyle \\frac{a^{3}}{3} + a^{2} + a b^{2} + \\frac{2 a}{3} + b^{2}$"
      ],
      "text/plain": [
       " 3                       \n",
       "a     2      2   2⋅a    2\n",
       "── + a  + a⋅b  + ─── + b \n",
       "3                 3      "
      ]
     },
     "execution_count": 23,
     "metadata": {},
     "output_type": "execute_result"
    }
   ],
   "source": [
    "n = symbols('n')\n",
    "a = symbols('a')\n",
    "b = symbols('b')\n",
    "f=n*(n+1)*(n+2)/6\n",
    "f1 = f.subs(n,a-b)\n",
    "f2 = f.subs(n,a+b)\n",
    "f3 = f1+f2\n",
    "simplify(f3)"
   ]
  },
  {
   "cell_type": "code",
   "execution_count": 24,
   "metadata": {},
   "outputs": [
    {
     "data": {
      "text/latex": [
       "$\\displaystyle \\frac{A^{3}}{2} + \\frac{A^{2}}{2} + \\frac{A m_{1}^{2}}{2} + \\frac{A m_{1}}{2} + \\frac{A m_{2}^{2}}{2} + \\frac{A m_{2}}{2}$"
      ],
      "text/plain": [
       " 3    2       2              2       \n",
       "A    A    A⋅m₁    A⋅m₁   A⋅m₂    A⋅m₂\n",
       "── + ── + ───── + ──── + ───── + ────\n",
       "2    2      2      2       2      2  "
      ]
     },
     "execution_count": 24,
     "metadata": {},
     "output_type": "execute_result"
    }
   ],
   "source": [
    "A = symbols('A')\n",
    "m1 = symbols('m1')\n",
    "m2 = symbols('m2')\n",
    "n = symbols('n')\n",
    "f=n*(n+1)/2\n",
    "\n",
    "f1 = f.subs(n,m1)\n",
    "f2 = f.subs(n,m2)\n",
    "f3 = f1+f2\n",
    "fa = f.subs(n,A)\n",
    "expand(A*(fa+f3))"
   ]
  },
  {
   "cell_type": "code",
   "execution_count": 25,
   "metadata": {},
   "outputs": [
    {
     "data": {
      "text/latex": [
       "$\\displaystyle \\frac{2 A^{3}}{3} + 2 A^{2} + A m_{1}^{2} + A m_{2}^{2} + \\frac{4 A}{3} + m_{1}^{2} + m_{2}^{2}$"
      ],
      "text/plain": [
       "   3                                         \n",
       "2⋅A       2       2       2   4⋅A     2     2\n",
       "──── + 2⋅A  + A⋅m₁  + A⋅m₂  + ─── + m₁  + m₂ \n",
       " 3                             3             "
      ]
     },
     "execution_count": 25,
     "metadata": {},
     "output_type": "execute_result"
    }
   ],
   "source": [
    "A = symbols('A')\n",
    "m1 = symbols('m1')\n",
    "m2 = symbols('m2')\n",
    "n = symbols('n')\n",
    "f=n*(n+1)*(n+2)/6\n",
    "\n",
    "f1 = f.subs(n,A-m1)\n",
    "f2 = f.subs(n,A+m1)\n",
    "f3 = f1+f2\n",
    "f4 = f.subs(n,A-m2)\n",
    "f5 = f.subs(n,A+m2)\n",
    "f6 = f4+f5\n",
    "expand(f3+f6)"
   ]
  }
 ],
 "metadata": {
  "kernelspec": {
   "display_name": "Python 3",
   "language": "python",
   "name": "python3"
  },
  "language_info": {
   "codemirror_mode": {
    "name": "ipython",
    "version": 3
   },
   "file_extension": ".py",
   "mimetype": "text/x-python",
   "name": "python",
   "nbconvert_exporter": "python",
   "pygments_lexer": "ipython3",
   "version": "3.8.10"
  },
  "orig_nbformat": 4
 },
 "nbformat": 4,
 "nbformat_minor": 2
}
