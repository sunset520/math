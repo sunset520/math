{
 "cells": [
  {
   "cell_type": "markdown",
   "metadata": {},
   "source": [
    "# 整数分拆"
   ]
  },
  {
   "cell_type": "code",
   "execution_count": 1,
   "metadata": {},
   "outputs": [],
   "source": [
    "# 整数分拆\n",
    "def integer_partition(n, max_val=None):\n",
    "    if n == 0:\n",
    "        return [[]]\n",
    "    if max_val is None:\n",
    "        max_val = n\n",
    "    partitions = []\n",
    "    for i in range(1, min(max_val, n) + 1):\n",
    "        sub_partitions = integer_partition(n - i, i)\n",
    "        for partition in sub_partitions:\n",
    "            partitions.append([i] + partition)\n",
    "    return partitions\n",
    "\n",
    "def integer_partition_with_condition(n,condition):\n",
    "    partitions = integer_partition(n)\n",
    "    ans = []\n",
    "    for partition in partitions:\n",
    "        if condition(partition):\n",
    "            ans.append(partition)\n",
    "    return ans"
   ]
  },
  {
   "cell_type": "code",
   "execution_count": 2,
   "metadata": {},
   "outputs": [],
   "source": [
    "# 部分为奇数\n",
    "def condition1(partition):\n",
    "    for i in partition:\n",
    "        if i % 2 == 0:\n",
    "            return False\n",
    "    return True\n",
    "\n",
    "# 部分相异\n",
    "def condition2(partition):\n",
    "    for i in range(len(partition)-1):\n",
    "        if partition[i+1]-partition[i] == 0:\n",
    "            return False\n",
    "    return True\n",
    "# 部分同余于 arr mod m\n",
    "def condition_mod(m,arr,partition):\n",
    "    for i in partition:\n",
    "        if not arr.includes(i%m):\n",
    "            return False\n",
    "    return True\n"
   ]
  },
  {
   "cell_type": "code",
   "execution_count": 4,
   "metadata": {},
   "outputs": [
    {
     "name": "stdout",
     "output_type": "stream",
     "text": [
      "整数 5 的分拆方式有： 7 种\n",
      "整数 5 的所有分拆方式为：\n",
      "[1, 1, 1, 1, 1]\n",
      "[2, 1, 1, 1]\n",
      "[2, 2, 1]\n",
      "[3, 1, 1]\n",
      "[3, 2]\n",
      "[4, 1]\n",
      "[5]\n"
     ]
    }
   ],
   "source": [
    "n = int(input(\"请输入一个整数：\"))\n",
    "partitions = integer_partition(n)\n",
    "print(\"整数\", n, \"的分拆方式有：\", len(partitions), \"种\")\n",
    "print(\"整数\", n, \"的所有分拆方式为：\")\n",
    "for partition in partitions:\n",
    "    print(partition)"
   ]
  },
  {
   "cell_type": "code",
   "execution_count": 3,
   "metadata": {},
   "outputs": [
    {
     "ename": "TypeError",
     "evalue": "condition_mod() missing 1 required positional argument: 'partition'",
     "output_type": "error",
     "traceback": [
      "\u001b[1;31m---------------------------------------------------------------------------\u001b[0m",
      "\u001b[1;31mTypeError\u001b[0m                                 Traceback (most recent call last)",
      "Cell \u001b[1;32mIn[3], line 2\u001b[0m\n\u001b[0;32m      1\u001b[0m n \u001b[38;5;241m=\u001b[39m \u001b[38;5;28mint\u001b[39m(\u001b[38;5;28minput\u001b[39m(\u001b[38;5;124m\"\u001b[39m\u001b[38;5;124m请输入一个整数：\u001b[39m\u001b[38;5;124m\"\u001b[39m))\n\u001b[1;32m----> 2\u001b[0m partitions \u001b[38;5;241m=\u001b[39m integer_partition_with_condition(n,\u001b[43mcondition_mod\u001b[49m\u001b[43m(\u001b[49m\u001b[38;5;241;43m2\u001b[39;49m\u001b[43m,\u001b[49m\u001b[43m[\u001b[49m\u001b[38;5;241;43m1\u001b[39;49m\u001b[43m]\u001b[49m\u001b[43m)\u001b[49m)\n\u001b[0;32m      3\u001b[0m \u001b[38;5;28mprint\u001b[39m(\u001b[38;5;124m\"\u001b[39m\u001b[38;5;124m整数\u001b[39m\u001b[38;5;124m\"\u001b[39m, n, \u001b[38;5;124m\"\u001b[39m\u001b[38;5;124m的分拆方式有：\u001b[39m\u001b[38;5;124m\"\u001b[39m, \u001b[38;5;28mlen\u001b[39m(partitions), \u001b[38;5;124m\"\u001b[39m\u001b[38;5;124m种\u001b[39m\u001b[38;5;124m\"\u001b[39m)\n\u001b[0;32m      4\u001b[0m \u001b[38;5;28mprint\u001b[39m(\u001b[38;5;124m\"\u001b[39m\u001b[38;5;124m整数\u001b[39m\u001b[38;5;124m\"\u001b[39m, n, \u001b[38;5;124m\"\u001b[39m\u001b[38;5;124m的所有分拆方式为：\u001b[39m\u001b[38;5;124m\"\u001b[39m)\n",
      "\u001b[1;31mTypeError\u001b[0m: condition_mod() missing 1 required positional argument: 'partition'"
     ]
    }
   ],
   "source": [
    "n = int(input(\"请输入一个整数：\"))\n",
    "partitions = integer_partition_with_condition(n,condition_mod(2,[1]))\n",
    "print(\"整数\", n, \"的分拆方式有：\", len(partitions), \"种\")\n",
    "print(\"整数\", n, \"的所有分拆方式为：\")\n",
    "for partition in partitions:\n",
    "    print(partition)"
   ]
  },
  {
   "cell_type": "code",
   "execution_count": 15,
   "metadata": {},
   "outputs": [],
   "source": [
    "# 部分为奇数的分拆\n",
    "def integer_partition_with_condition1(n):\n",
    "    partitions = integer_partition(n)\n",
    "    ans = []\n",
    "    for partition in partitions:\n",
    "        flag = True\n",
    "        for i in partition:\n",
    "            if i % 2 == 0:\n",
    "                flag = False\n",
    "                break\n",
    "        if flag:\n",
    "            ans.append(partition)\n",
    "    return ans\n",
    "        \n",
    "    "
   ]
  },
  {
   "cell_type": "code",
   "execution_count": 16,
   "metadata": {},
   "outputs": [
    {
     "name": "stdout",
     "output_type": "stream",
     "text": [
      "整数 5 的部分为奇数的分拆方式有： 3 种\n",
      "整数 5 的部分为奇数的所有分拆方式为：\n",
      "[1, 1, 1, 1, 1]\n",
      "[3, 1, 1]\n",
      "[5]\n"
     ]
    }
   ],
   "source": [
    "n = int(input(\"请输入一个整数：\"))\n",
    "partitions = integer_partition_with_condition1(n)\n",
    "print(\"整数\", n, \"的部分为奇数的分拆方式有：\", len(partitions), \"种\")\n",
    "print(\"整数\", n, \"的部分为奇数的所有分拆方式为：\")\n",
    "for partition in partitions:\n",
    "    print(partition)"
   ]
  },
  {
   "cell_type": "code",
   "execution_count": 17,
   "metadata": {},
   "outputs": [],
   "source": [
    "# 部分相异的分拆\n",
    "def integer_partition_with_condition2(n):\n",
    "    partitions = integer_partition(n)\n",
    "    ans = []\n",
    "    for partition in partitions:\n",
    "        flag = True\n",
    "        for i in range(len(partition)-1):\n",
    "            if partition[i+1]-partition[i] == 0:\n",
    "                flag = False\n",
    "                break\n",
    "        if flag:\n",
    "            ans.append(partition)\n",
    "    return ans"
   ]
  },
  {
   "cell_type": "code",
   "execution_count": 18,
   "metadata": {},
   "outputs": [
    {
     "name": "stdout",
     "output_type": "stream",
     "text": [
      "整数 5 的部分为相异的分拆方式有： 3 种\n",
      "整数 5 的部分为相异的所有分拆方式为：\n",
      "[3, 2]\n",
      "[4, 1]\n",
      "[5]\n"
     ]
    }
   ],
   "source": [
    "n = int(input(\"请输入一个整数：\"))\n",
    "partitions = integer_partition_with_condition2(n)\n",
    "print(\"整数\", n, \"的部分为相异的分拆方式有：\", len(partitions), \"种\")\n",
    "print(\"整数\", n, \"的部分为相异的所有分拆方式为：\")\n",
    "for partition in partitions:\n",
    "    print(partition)"
   ]
  },
  {
   "cell_type": "code",
   "execution_count": 5,
   "metadata": {},
   "outputs": [],
   "source": [
    "# 部分为 5k+1/5k-1 的分拆\n",
    "def integer_partition_with_condition3(n):\n",
    "    partitions = integer_partition(n)\n",
    "    ans = []\n",
    "    for partition in partitions:\n",
    "        flag = True\n",
    "        for i in partition:\n",
    "            if not (i % 5 == 1 or i % 5 == 4):\n",
    "                flag = False\n",
    "                break\n",
    "        if flag:\n",
    "            ans.append(partition)\n",
    "    return ans\n",
    "        \n",
    "    "
   ]
  },
  {
   "cell_type": "code",
   "execution_count": 6,
   "metadata": {},
   "outputs": [
    {
     "name": "stdout",
     "output_type": "stream",
     "text": [
      "整数 5 的部分为 5k+1/5k-1 的分拆方式有： 2 种\n",
      "整数 5 的部分为 5k+1/5k-1 的所有分拆方式为：\n",
      "[1, 1, 1, 1, 1]\n",
      "[4, 1]\n"
     ]
    }
   ],
   "source": [
    "n = int(input(\"请输入一个整数：\"))\n",
    "partitions = integer_partition_with_condition3(n)\n",
    "print(\"整数\", n, \"的部分为 5k+1/5k-1 的分拆方式有：\", len(partitions), \"种\")\n",
    "print(\"整数\", n, \"的部分为 5k+1/5k-1 的所有分拆方式为：\")\n",
    "for partition in partitions:\n",
    "    print(partition)"
   ]
  },
  {
   "cell_type": "code",
   "execution_count": 13,
   "metadata": {},
   "outputs": [],
   "source": [
    "# 部分超相异的分拆\n",
    "def integer_partition_with_condition4(n):\n",
    "    partitions = integer_partition(n)\n",
    "    ans = []\n",
    "    for partition in partitions:\n",
    "        flag = True\n",
    "        for i in range(len(partition)-1):\n",
    "            if partition[i+1]-partition[i] >= -1:\n",
    "                flag = False\n",
    "                break\n",
    "        if flag:\n",
    "            ans.append(partition)\n",
    "    return ans"
   ]
  },
  {
   "cell_type": "code",
   "execution_count": 14,
   "metadata": {},
   "outputs": [
    {
     "name": "stdout",
     "output_type": "stream",
     "text": [
      "整数 5 的部分为超相异的分拆方式有： 2 种\n",
      "整数 5 的部分为超相异的所有分拆方式为：\n",
      "[4, 1]\n",
      "[5]\n"
     ]
    }
   ],
   "source": [
    "n = int(input(\"请输入一个整数：\"))\n",
    "partitions = integer_partition_with_condition4(n)\n",
    "print(\"整数\", n, \"的部分为超相异的分拆方式有：\", len(partitions), \"种\")\n",
    "print(\"整数\", n, \"的部分为超相异的所有分拆方式为：\")\n",
    "for partition in partitions:\n",
    "    print(partition)"
   ]
  }
 ],
 "metadata": {
  "kernelspec": {
   "display_name": "Python 3",
   "language": "python",
   "name": "python3"
  },
  "language_info": {
   "codemirror_mode": {
    "name": "ipython",
    "version": 3
   },
   "file_extension": ".py",
   "mimetype": "text/x-python",
   "name": "python",
   "nbconvert_exporter": "python",
   "pygments_lexer": "ipython3",
   "version": "3.11.4"
  }
 },
 "nbformat": 4,
 "nbformat_minor": 2
}
